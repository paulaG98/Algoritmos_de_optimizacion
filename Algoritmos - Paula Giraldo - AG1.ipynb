{
 "cells": [
  {
   "cell_type": "markdown",
   "metadata": {},
   "source": [
    "# Actividad guiada 1\n",
    "## Paula Andrea Giraldo Pedroza\n",
    "Link repositorio github: https://github.com/paulaG98/Algoritmos_de_optimizacion.git"
   ]
  },
  {
   "cell_type": "code",
   "execution_count": 2,
   "metadata": {},
   "outputs": [
    {
     "name": "stdout",
     "output_type": "stream",
     "text": [
      "mover bloque desde 1 a 2\n",
      "mover bloque desde 1 a 3\n",
      "mover bloque desde 1 a 2\n",
      "mover bloque desde 1 a 2\n",
      "mover bloque desde 1 a 2\n",
      "mover bloque desde 1 a 3\n",
      "mover bloque desde 1 a 2\n",
      "mover bloque desde 1 a 3\n",
      "mover bloque desde 1 a 2\n",
      "mover bloque desde 1 a 3\n",
      "mover bloque desde 1 a 2\n",
      "mover bloque desde 1 a 2\n",
      "mover bloque desde 1 a 2\n",
      "mover bloque desde 1 a 3\n",
      "mover bloque desde 1 a 2\n"
     ]
    }
   ],
   "source": [
    "def torres_hanoi(N, origen, destino, pivote):\n",
    "    if N==1:\n",
    "        print(f\"mover bloque desde {origen} a {destino}\")\n",
    "        return\n",
    "    torres_hanoi(N-1, origen,pivote,destino)\n",
    "    print(f'mover bloque desde {origen} a {destino}')\n",
    "    torres_hanoi(N-1, origen,pivote,destino)\n",
    "\n",
    "torres_hanoi(4,1,3,2)\n",
    "    "
   ]
  },
  {
   "cell_type": "code",
   "execution_count": 4,
   "metadata": {},
   "outputs": [
    {
     "name": "stdout",
     "output_type": "stream",
     "text": [
      "sistema:\n",
      "[25, 10, 5, 1]\n"
     ]
    },
    {
     "data": {
      "text/plain": [
       "[2, 0, 0, 4]"
      ]
     },
     "execution_count": 4,
     "metadata": {},
     "output_type": "execute_result"
    }
   ],
   "source": [
    "def cambio_moneda(cantidad,sistema):\n",
    "    print('sistema:')\n",
    "    print(sistema)\n",
    "    solucion = [0 for i in range(len(sistema))]\n",
    "    valor_acumulado = 0\n",
    "    \n",
    "    for i in range(len(sistema)):\n",
    "        monedas = int((cantidad-valor_acumulado)/sistema[i])\n",
    "        solucion[i] = monedas\n",
    "        valor_acumulado+= monedas*sistema[i]\n",
    "        \n",
    "        if valor_acumulado == cantidad: break\n",
    "    \n",
    "    return solucion\n",
    "\n",
    "sistema = [25,10,5,1]\n",
    "cambio_moneda(54,sistema)"
   ]
  }
 ],
 "metadata": {
  "kernelspec": {
   "display_name": "Python 3",
   "language": "python",
   "name": "python3"
  },
  "language_info": {
   "codemirror_mode": {
    "name": "ipython",
    "version": 3
   },
   "file_extension": ".py",
   "mimetype": "text/x-python",
   "name": "python",
   "nbconvert_exporter": "python",
   "pygments_lexer": "ipython3",
   "version": "3.8.5"
  }
 },
 "nbformat": 4,
 "nbformat_minor": 4
}
